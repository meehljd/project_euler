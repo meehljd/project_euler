{
 "cells": [
  {
   "cell_type": "code",
   "execution_count": 2,
   "metadata": {},
   "outputs": [],
   "source": [
    "import numpy as np\n",
    "import math"
   ]
  },
  {
   "cell_type": "code",
   "execution_count": 4,
   "metadata": {},
   "outputs": [
    {
     "name": "stdout",
     "output_type": "stream",
     "text": [
      "Smallest Multiple: 232,792,560\n"
     ]
    }
   ],
   "source": [
    "n = 20\n",
    "\n",
    "not_fully_div = True\n",
    "\n",
    "m = n\n",
    "\n",
    "\n",
    "while not_fully_div:\n",
    "    for i in range(n, 0, -1):\n",
    "        if not m % i == 0:\n",
    "            # print(m, i)\n",
    "            m += n\n",
    "            break\n",
    "        if i == 1:\n",
    "            not_fully_div = False\n",
    "print(f\"Smallest Multiple: {m:,}\")"
   ]
  },
  {
   "cell_type": "code",
   "execution_count": null,
   "metadata": {},
   "outputs": [],
   "source": []
  }
 ],
 "metadata": {
  "kernelspec": {
   "display_name": "Python 3",
   "language": "python",
   "name": "python3"
  },
  "language_info": {
   "codemirror_mode": {
    "name": "ipython",
    "version": 3
   },
   "file_extension": ".py",
   "mimetype": "text/x-python",
   "name": "python",
   "nbconvert_exporter": "python",
   "pygments_lexer": "ipython3",
   "version": "3.10.9"
  }
 },
 "nbformat": 4,
 "nbformat_minor": 2
}
